{
  "nbformat": 4,
  "nbformat_minor": 0,
  "metadata": {
    "colab": {
      "provenance": []
    },
    "kernelspec": {
      "name": "python3",
      "display_name": "Python 3"
    },
    "language_info": {
      "name": "python"
    }
  },
  "cells": [
    {
      "cell_type": "code",
      "execution_count": null,
      "metadata": {
        "id": "Y_NCHOw4pKQS"
      },
      "outputs": [],
      "source": [
        "import pandas as pd\n",
        "import numpy as np"
      ]
    },
    {
      "cell_type": "markdown",
      "source": [
        "# Load excel data and store to dataframe"
      ],
      "metadata": {
        "id": "dGmiDVZPqLKW"
      }
    },
    {
      "cell_type": "code",
      "source": [
        "# get into excel folder\n",
        "#%cd drive/MyDrive/Colab\\ Notebooks/pie_capstone\n",
        "\n",
        "# Load the data\n",
        "supplier_df = pd.read_excel('TTS calculation.xlsx', sheet_name=\"Supplier\")\n",
        "inventory_df = pd.read_excel('TTS calculation.xlsx', sheet_name=\"Inventory\")\n",
        "demand_df = pd.read_excel('TTS calculation.xlsx', sheet_name=\"Demand_Forecast\")\n",
        "#supply_df = pd.read_excel('TTS calculation.xlsx', sheet_name=\"Supply_Historical\")\n",
        "supply_split_df = pd.read_excel('TTS calculation.xlsx', sheet_name=\"Supplier_split\")\n",
        "region_df = pd.read_excel('TTS calculation.xlsx', sheet_name=\"Region\")"
      ],
      "metadata": {
        "id": "k-YIKNtXpuSu"
      },
      "execution_count": null,
      "outputs": []
    },
    {
      "cell_type": "code",
      "source": [
        "demand_df"
      ],
      "metadata": {
        "id": "BTyLMsDwa1Gf"
      },
      "execution_count": null,
      "outputs": []
    },
    {
      "cell_type": "code",
      "source": [
        "# round chemical lbs to nearest integer\n",
        "supply_split_df[['Weekly Chemical Lbs']] = supply_split_df[['Weekly Chemical Lbs']]\n",
        "inventory_df[['Inventory']] = inventory_df[['Inventory']]\n",
        "inventory_df"
      ],
      "metadata": {
        "id": "_llODGkaqF7y"
      },
      "execution_count": null,
      "outputs": []
    },
    {
      "cell_type": "markdown",
      "source": [
        "# Aggregate, Combine, TTS"
      ],
      "metadata": {
        "id": "G7f3luxmufrf"
      }
    },
    {
      "cell_type": "code",
      "source": [
        "# aggregate supply split data and combine it with inventory and demand\n",
        "def prepare_combined_df(supply_df):\n",
        "    df = supply_df.copy()\n",
        "\n",
        "    # aggregate supply df\n",
        "    df = df.groupby(['Chemical','Plant' ])['Weekly Chemical Lbs'].sum().reset_index()\n",
        "\n",
        "    # combine inventory, demand and supply\n",
        "    df = pd.merge(pd.merge(inventory_df, demand_df, on=['Key', 'Plant', 'Chemical']), df, on=['Plant', 'Chemical'], how='left')\n",
        "    df = df.rename(columns={'Weekly Chemical Lbs': 'Weekly_Supply'})\n",
        "\n",
        "    # Keep only necessary columns\n",
        "    keep_cols = ['Chemical','Plant', 'Key', 'Inventory', 'Weekly_Demand', 'Weekly_Supply']\n",
        "\n",
        "    # Replace nan to 0, meaning there is no supply\n",
        "    df = df.fillna(0)\n",
        "\n",
        "    return df.loc[:, keep_cols]"
      ],
      "metadata": {
        "id": "PQIBlo87ukxc"
      },
      "execution_count": null,
      "outputs": []
    },
    {
      "cell_type": "code",
      "source": [
        "# calculate tts based on combined table\n",
        "def calculate_tts(combined_df):\n",
        "    df = combined_df.copy()\n",
        "\n",
        "    # Add column to df\n",
        "    df['TTS'] = float(\"inf\")\n",
        "\n",
        "    # Calculate TTS for each row\n",
        "    for i, row in df.iterrows():\n",
        "        if row['Weekly_Supply'] >= row['Weekly_Demand']:\n",
        "            continue\n",
        "        else:\n",
        "            tts = (row['Inventory'] / (row['Weekly_Demand'] - row['Weekly_Supply']));\n",
        "            df.at[i, 'TTS'] = round(tts, 1)\n",
        "    \n",
        "    return df"
      ],
      "metadata": {
        "id": "5LG7lCd-wesO"
      },
      "execution_count": null,
      "outputs": []
    },
    {
      "cell_type": "markdown",
      "source": [
        "### Example"
      ],
      "metadata": {
        "id": "V-LtZU-kxG-7"
      }
    },
    {
      "cell_type": "code",
      "source": [
        "# Example\n",
        "combined = prepare_combined_df(supply_split_df)\n",
        "combined"
      ],
      "metadata": {
        "id": "fDzdgahYxBGE"
      },
      "execution_count": null,
      "outputs": []
    },
    {
      "cell_type": "code",
      "source": [
        "result = calculate_tts(combined)\n",
        "result"
      ],
      "metadata": {
        "id": "SvzepWYfxK83"
      },
      "execution_count": null,
      "outputs": []
    },
    {
      "cell_type": "markdown",
      "source": [
        "# Original As Is Status\n"
      ],
      "metadata": {
        "id": "BVkN6SXlxjN9"
      }
    },
    {
      "cell_type": "markdown",
      "source": [
        "## Calculate TTS without distruption ➊"
      ],
      "metadata": {
        "id": "PR3oKsdEyRSy"
      }
    },
    {
      "cell_type": "code",
      "source": [
        "tts_no_distruption = calculate_tts(prepare_combined_df(supply_split_df))\n",
        "tts_no_distruption"
      ],
      "metadata": {
        "id": "LzpA4LrYxpsC"
      },
      "execution_count": null,
      "outputs": []
    },
    {
      "cell_type": "markdown",
      "source": [
        "### Plot bar chart"
      ],
      "metadata": {
        "id": "SWRs_-foOXFd"
      }
    },
    {
      "cell_type": "code",
      "source": [
        "grouped = tts_no_distruption.groupby(['Plant'])\n",
        "\n",
        "df_TPVA = grouped.get_group('TPVA')\n",
        "df_TPNM = grouped.get_group('TPNM')\n",
        "df_TPIN = grouped.get_group('TPIN')"
      ],
      "metadata": {
        "id": "22ESrOQFOTrM"
      },
      "execution_count": null,
      "outputs": []
    },
    {
      "cell_type": "code",
      "source": [
        "inf_table_df = pd.DataFrame(columns=['Count of Infinity', 'Percentage(%)'], index=['TPVA', 'TPNM', 'TPIN'])"
      ],
      "metadata": {
        "id": "IxjMokzlOiOH"
      },
      "execution_count": null,
      "outputs": []
    },
    {
      "cell_type": "code",
      "source": [
        "def get_inf_count_and_percentage(plant_df):\n",
        "    count = plant_df['TTS'].value_counts()[float(\"inf\")]\n",
        "    percentage = ((count / 51) * 100).round()\n",
        "\n",
        "    return [count, percentage]\n"
      ],
      "metadata": {
        "id": "3pvTP8_SOlMS"
      },
      "execution_count": null,
      "outputs": []
    },
    {
      "cell_type": "code",
      "source": [
        "# Insert values to df\n",
        "inf_table_df.loc['TPVA'] = get_inf_count_and_percentage(df_TPVA)\n",
        "inf_table_df.loc['TPNM'] = get_inf_count_and_percentage(df_TPNM)\n",
        "inf_table_df.loc['TPIN'] = get_inf_count_and_percentage(df_TPIN)\n",
        "\n",
        "inf_table_df"
      ],
      "metadata": {
        "id": "scVNNsmCOm9J"
      },
      "execution_count": null,
      "outputs": []
    },
    {
      "cell_type": "code",
      "source": [
        "# Plot each chart excluding TTS=inf\n",
        "# Filter out TTS=inf for each dataframe\n",
        "def filter_inf(df):\n",
        "    return df.loc[df['TTS'] != float(\"inf\")]\n",
        "\n",
        "df_TPVA_filtered = filter_inf(df_TPVA)\n",
        "df_TPNM_filtered = filter_inf(df_TPNM)\n",
        "df_TPIN_filtered = filter_inf(df_TPIN)\n"
      ],
      "metadata": {
        "id": "bdZ2jFzYOu-5"
      },
      "execution_count": null,
      "outputs": []
    },
    {
      "cell_type": "code",
      "source": [
        "# import matplotlib.pyplot as plt\n",
        "\n",
        "# #Set up subplots\n",
        "# fig, axs = plt.subplots(1, 3, figsize=(12, 6))\n",
        "\n",
        "# df_TPVA_filtered.sort_values(\"TTS\", ascending=True).plot.barh(x='Chemical', y='TTS', title=\"TPVA\", ax=axs[0])\n",
        "# axs[0].set_ylabel(\"\") # remove y-axis label\n",
        "\n",
        "# df_TPNM_filtered.sort_values(\"TTS\", ascending=True).plot.barh(x='Chemical', y='TTS', title=\"TPNM\", ax=axs[1])\n",
        "# axs[1].set_ylabel(\"\") # remove y-axis label\n",
        "\n",
        "# df_TPIN_filtered.sort_values(\"TTS\", ascending=True).plot.barh(x='Chemical', y='TTS', title=\"TPIN\", ax=axs[2])\n",
        "# axs[2].set_ylabel(\"\") # remove y-axis label\n",
        "\n",
        "\n",
        "# fig.suptitle(\"TPVA, TPNM, and TPIN\")\n",
        "\n",
        "# #Adjust spacing between subplots\n",
        "# plt.subplots_adjust(wspace=0.7)\n",
        "# plt.show()\n"
      ],
      "metadata": {
        "id": "bjudmlJPQHl7"
      },
      "execution_count": null,
      "outputs": []
    },
    {
      "cell_type": "markdown",
      "source": [
        "## Calculate TTS after turning off each supplier"
      ],
      "metadata": {
        "id": "t5FZIOIQyZUm"
      }
    },
    {
      "cell_type": "code",
      "source": [
        "supplier_df"
      ],
      "metadata": {
        "id": "rCvMW8ee0sCq"
      },
      "execution_count": null,
      "outputs": []
    },
    {
      "cell_type": "markdown",
      "source": [
        "### Function: turn off supplier"
      ],
      "metadata": {
        "id": "8kXNDIp-y-BP"
      }
    },
    {
      "cell_type": "code",
      "source": [
        "# turn off supplier\n",
        "def turn_off_supplier(sup, supply_df):\n",
        "    df = supply_df.copy()\n",
        "\n",
        "    for i, row in df.iterrows():\n",
        "        if row['Supplier'] == sup:\n",
        "            df.at[i, 'Weekly Chemical Lbs'] = 0\n",
        "        \n",
        "    return df"
      ],
      "metadata": {
        "id": "UoKW59O2yiAF"
      },
      "execution_count": null,
      "outputs": []
    },
    {
      "cell_type": "code",
      "source": [
        "test = turn_off_supplier('Swan', supply_split_df)\n",
        "test"
      ],
      "metadata": {
        "id": "1yMxkI7D40s0"
      },
      "execution_count": null,
      "outputs": []
    },
    {
      "cell_type": "markdown",
      "source": [
        "### Result without stretching suppliers"
      ],
      "metadata": {
        "id": "MPNsRYzgyi6I"
      }
    },
    {
      "cell_type": "code",
      "source": [
        "# function to get turned of tts and add to our result df\n",
        "def add_tts_to_result(sup, off_tts_df, result):\n",
        "    # suffix string for display\n",
        "    suffix_str = '_' + sup + '_off'\n",
        "\n",
        "    # merge current result df with turned off supplier df calculated\n",
        "    return result.merge(off_tts_df[['Chemical','Plant', 'TTS']].set_index(['Chemical', 'Plant']).add_suffix(suffix_str), on=['Chemical', 'Plant'])"
      ],
      "metadata": {
        "id": "y58aENOL1iU5"
      },
      "execution_count": null,
      "outputs": []
    },
    {
      "cell_type": "code",
      "source": [
        "# Generate the result table\n",
        "\n",
        "# Use the result of no distruption as base\n",
        "result_df = tts_no_distruption[['Chemical', 'Plant', 'TTS']]\n",
        "\n",
        "# loop through each supplier and add turned off tts column to our result\n",
        "for i, row in supplier_df.iterrows():\n",
        "    sup = row['Supplier']\n",
        "    \n",
        "    # get tts df with supplier turned off\n",
        "    off_df = turn_off_supplier(sup, supply_split_df)\n",
        "    off_tts_df = calculate_tts(prepare_combined_df(off_df))\n",
        "\n",
        "    # add tts to result df\n",
        "    result_df = add_tts_to_result(sup, off_tts_df, result_df)\n",
        "\n",
        "result_df"
      ],
      "metadata": {
        "id": "tk7StlBr0wgi"
      },
      "execution_count": null,
      "outputs": []
    },
    {
      "cell_type": "markdown",
      "source": [
        "### Result with stretching 20%\n"
      ],
      "metadata": {
        "id": "2EWf8gv22g8v"
      }
    },
    {
      "cell_type": "code",
      "source": [
        "# stretch suppliers to 20%\n",
        "def get_stretched_supply_df(sup, supply_df):\n",
        "    off_df = turn_off_supplier(sup, supply_df)\n",
        "\n",
        "    # stretch other suppliers\n",
        "    # find all chemicals provided by cur turned off supplier\n",
        "    sup_chemicals = off_df.loc[off_df['Supplier'] == sup].drop_duplicates(subset=['Chemical'])['Chemical'].tolist()\n",
        "    \n",
        "    # all chemicals' all suppliers x 1.2\n",
        "    for i, row in off_df.iterrows():\n",
        "        if row['Chemical'] in sup_chemicals:\n",
        "            off_df.at[i, 'Weekly Chemical Lbs'] = (row['Weekly Chemical Lbs'] * 1.2)\n",
        "\n",
        "    return off_df\n",
        "\n",
        "# stretched = get_stretched_supply_df('Swan', supply_split_df)\n",
        "# stretched"
      ],
      "metadata": {
        "id": "AqM6Ms3R2qCP"
      },
      "execution_count": null,
      "outputs": []
    },
    {
      "cell_type": "code",
      "source": [
        "# Generate the result table\n",
        "\n",
        "# Use the result of no distruption as base\n",
        "stretched_result_df = tts_no_distruption[['Chemical', 'Plant', 'TTS']]\n",
        "\n",
        "# loop through each supplier and add turned off tts column to our result\n",
        "for i, row in supplier_df.iterrows():\n",
        "    sup = row['Supplier']\n",
        "    \n",
        "    # get tts df with supplier turned off\n",
        "    off_df = get_stretched_supply_df(sup, supply_split_df)\n",
        "    off_tts_df = calculate_tts(prepare_combined_df(off_df))\n",
        "\n",
        "    # add tts to result df\n",
        "    stretched_result_df = add_tts_to_result(sup, off_tts_df, stretched_result_df)\n",
        "\n",
        "stretched_result_df"
      ],
      "metadata": {
        "id": "M5D7rgU97OhH"
      },
      "execution_count": null,
      "outputs": []
    },
    {
      "cell_type": "markdown",
      "source": [
        "### Final Result table"
      ],
      "metadata": {
        "id": "94Qi-vyi0j36"
      }
    },
    {
      "cell_type": "code",
      "source": [
        "final_result_sup_df = result_df.merge(stretched_result_df.drop('TTS', axis=1).set_index(['Chemical', 'Plant']).add_suffix('_stretched'), on=['Chemical', 'Plant'])\n",
        "final_result_sup_df"
      ],
      "metadata": {
        "id": "BlniWVE0zEQC"
      },
      "execution_count": null,
      "outputs": []
    },
    {
      "cell_type": "markdown",
      "source": [
        "## Calculate TTS after turning off each region"
      ],
      "metadata": {
        "id": "8DsRNTQEcMsP"
      }
    },
    {
      "cell_type": "code",
      "source": [
        "region_df"
      ],
      "metadata": {
        "id": "QDx4Tnx-cWsw"
      },
      "execution_count": null,
      "outputs": []
    },
    {
      "cell_type": "markdown",
      "source": [
        "### Function: turn off region"
      ],
      "metadata": {
        "id": "VBtzxr2Rg8gT"
      }
    },
    {
      "cell_type": "code",
      "source": [
        "# turn off region\n",
        "def turn_off_region(region, supply_df):\n",
        "    df = supply_df.copy()\n",
        "\n",
        "    for i, row in df.iterrows():\n",
        "        if row['Region'] == region:\n",
        "            df.at[i, 'Weekly Chemical Lbs'] = 0\n",
        "        \n",
        "    return df"
      ],
      "metadata": {
        "id": "5wqlmNFCc2wy"
      },
      "execution_count": null,
      "outputs": []
    },
    {
      "cell_type": "code",
      "source": [
        "test = turn_off_region('Texas', supply_split_df)\n",
        "test"
      ],
      "metadata": {
        "id": "vM2kLZ87eMQh"
      },
      "execution_count": null,
      "outputs": []
    },
    {
      "cell_type": "markdown",
      "source": [
        "### Result without stretching suppliers"
      ],
      "metadata": {
        "id": "4Xds2PBEedEB"
      }
    },
    {
      "cell_type": "code",
      "source": [
        "# Generate the result table\n",
        "\n",
        "# Use the result of no distruption as base\n",
        "region_result_df = tts_no_distruption[['Chemical', 'Plant', 'TTS']]\n",
        "\n",
        "# loop through each region and add turned off tts column to our result\n",
        "for i, row in region_df.iterrows():\n",
        "    region = row['Region_group']\n",
        "    \n",
        "    # get tts df with region turned off\n",
        "    off_df = turn_off_region(region, supply_split_df)\n",
        "    off_tts_df = calculate_tts(prepare_combined_df(off_df))\n",
        "\n",
        "    # add tts to result df\n",
        "    region_result_df = add_tts_to_result(region, off_tts_df, region_result_df)\n",
        "\n",
        "region_result_df"
      ],
      "metadata": {
        "id": "SaNyPtINegRi"
      },
      "execution_count": null,
      "outputs": []
    },
    {
      "cell_type": "markdown",
      "source": [
        "### Result with stretching 20%"
      ],
      "metadata": {
        "id": "fP1eBCyUfOGj"
      }
    },
    {
      "cell_type": "code",
      "source": [
        "# stretch suppliers to 20%\n",
        "def get_stretched_region_df(region, supply_df):\n",
        "    off_df = turn_off_region(region, supply_df)\n",
        "\n",
        "    # stretch other regions\n",
        "    # find all chemicals provided by cur turned off region\n",
        "    sup_chemicals = off_df.loc[off_df['Region'] == region].drop_duplicates(subset=['Chemical'])['Chemical'].tolist()\n",
        "    \n",
        "    # all chemicals' all regions x 1.2\n",
        "    for i, row in off_df.iterrows():\n",
        "        if row['Chemical'] in sup_chemicals:\n",
        "            off_df.at[i, 'Weekly Chemical Lbs'] = (row['Weekly Chemical Lbs'] * 1.2)\n",
        "\n",
        "    return off_df"
      ],
      "metadata": {
        "id": "UFdbkS2YfSGf"
      },
      "execution_count": null,
      "outputs": []
    },
    {
      "cell_type": "code",
      "source": [
        "# Generate the result table\n",
        "\n",
        "# Use the result of no distruption as base\n",
        "stretched_region_result_df = tts_no_distruption[['Chemical', 'Plant', 'TTS']]\n",
        "\n",
        "# loop through each region and add turned off tts column to our result\n",
        "for i, row in region_df.iterrows():\n",
        "    region = row['Region_group']\n",
        "    \n",
        "    # get tts df with region turned off\n",
        "    off_df = get_stretched_region_df(region, supply_split_df)\n",
        "    off_tts_df = calculate_tts(prepare_combined_df(off_df))\n",
        "\n",
        "    # add tts to result df\n",
        "    stretched_region_result_df = add_tts_to_result(region, off_tts_df, stretched_region_result_df)\n",
        "\n",
        "stretched_region_result_df"
      ],
      "metadata": {
        "id": "kh0tG5sQf17G"
      },
      "execution_count": null,
      "outputs": []
    },
    {
      "cell_type": "markdown",
      "source": [
        "### Final Result Table"
      ],
      "metadata": {
        "id": "Tn_LflsN0pYn"
      }
    },
    {
      "cell_type": "code",
      "source": [
        "final_result_region_df = region_result_df.merge(stretched_region_result_df.drop('TTS', axis=1).set_index(['Chemical', 'Plant']).add_suffix('_stretched'), on=['Chemical', 'Plant'])\n",
        "final_result_region_df"
      ],
      "metadata": {
        "id": "Xb26MPLO0q7F"
      },
      "execution_count": null,
      "outputs": []
    },
    {
      "cell_type": "markdown",
      "source": [
        "# Optimized Scenario\n"
      ],
      "metadata": {
        "id": "tUPzWMs6iRTr"
      }
    },
    {
      "cell_type": "markdown",
      "source": [
        "## Transfer table (Data Cleaning)"
      ],
      "metadata": {
        "id": "SRDtjXVboMEu"
      }
    },
    {
      "cell_type": "code",
      "source": [
        "# Load the data\n",
        "optimized_supply_df = pd.read_excel('optimization_result.xlsx')\n",
        "\n",
        "# Load the mapping table\n",
        "region_map_df = pd.read_excel('TTS calculation.xlsx', sheet_name=\"Region_mapping\")\n",
        "supplier_map_df = pd.read_excel('TTS calculation.xlsx', sheet_name=\"Supplier_mapping\")"
      ],
      "metadata": {
        "id": "RaXGJrlDiczM"
      },
      "execution_count": null,
      "outputs": []
    },
    {
      "cell_type": "code",
      "source": [
        "optimized_supply_df = optimized_supply_df.rename(columns={\"Material\": \"Chemical\", \"Quantity\": \"Chemical Lbs\", \"Supplier\": \"Supplier_dummy\"})\n",
        "optimized_supply_df"
      ],
      "metadata": {
        "id": "T71XhcrBim1C"
      },
      "execution_count": null,
      "outputs": []
    },
    {
      "cell_type": "code",
      "source": [
        "# Update Supplier name \n",
        "optimized_supply_df['Supplier'] = optimized_supply_df['Supplier_dummy'].map(supplier_map_df.set_index('Supplier#')['Supplier.1'])\n",
        "optimized_supply_df"
      ],
      "metadata": {
        "id": "d-ZTmemxnoia"
      },
      "execution_count": null,
      "outputs": []
    },
    {
      "cell_type": "code",
      "source": [
        "region_map_df = region_map_df[region_map_df['Supplier Locations'].notna()]\n",
        "region_map_df = region_map_df.set_index('Supplier Locations')"
      ],
      "metadata": {
        "id": "VxZOAW3rsJK6"
      },
      "execution_count": null,
      "outputs": []
    },
    {
      "cell_type": "code",
      "source": [
        "# Update Region name\n",
        "optimized_supply_df['Region'] = optimized_supply_df['Location'].map(region_map_df['Region_v2_suggestion'])\n",
        "optimized_supply_df"
      ],
      "metadata": {
        "id": "m4FCYUblpFBs"
      },
      "execution_count": null,
      "outputs": []
    },
    {
      "cell_type": "code",
      "source": [
        "# Add Weekly Chemical Pounds\n",
        "optimized_supply_df['Weekly Chemical Lbs'] = (optimized_supply_df['Chemical Lbs'] / 50).apply(np.ceil)\n",
        "optimized_supply_df"
      ],
      "metadata": {
        "id": "YPugWS2sueJJ"
      },
      "execution_count": null,
      "outputs": []
    },
    {
      "cell_type": "markdown",
      "source": [
        "## Calculate TTS without distruption"
      ],
      "metadata": {
        "id": "SCWOgm_avWHg"
      }
    },
    {
      "cell_type": "code",
      "source": [
        "opt_tts_no_distruption = calculate_tts(prepare_combined_df(optimized_supply_df))\n",
        "opt_tts_no_distruption"
      ],
      "metadata": {
        "id": "J7hL3_LlveG2"
      },
      "execution_count": null,
      "outputs": []
    },
    {
      "cell_type": "markdown",
      "source": [
        "### Plot bar chart"
      ],
      "metadata": {
        "id": "ReoSxsVnWyn_"
      }
    },
    {
      "cell_type": "code",
      "source": [
        "opt_grouped = opt_tts_no_distruption.groupby(['Plant'])\n",
        "\n",
        "df_TPVA_opt = opt_grouped.get_group('TPVA')\n",
        "df_TPNM_opt = opt_grouped.get_group('TPNM')\n",
        "df_TPIN_opt = opt_grouped.get_group('TPIN')"
      ],
      "metadata": {
        "id": "BKt1TWVXWzRG"
      },
      "execution_count": null,
      "outputs": []
    },
    {
      "cell_type": "code",
      "source": [
        "opt_inf_table_df = pd.DataFrame(columns=['Count of Infinity', 'Percentage(%)'], index=['TPVA', 'TPNM', 'TPIN'])"
      ],
      "metadata": {
        "id": "OluBA4OzW-07"
      },
      "execution_count": null,
      "outputs": []
    },
    {
      "cell_type": "code",
      "source": [
        "def get_inf_count_and_percentage(plant_df):\n",
        "    count = plant_df['TTS'].value_counts()[float(\"inf\")]\n",
        "    percentage = ((count / 51) * 100).round()\n",
        "\n",
        "    return [count, percentage]\n"
      ],
      "metadata": {
        "id": "30N4UzvGW_2s"
      },
      "execution_count": null,
      "outputs": []
    },
    {
      "cell_type": "code",
      "source": [
        "# Insert values to df\n",
        "opt_inf_table_df.loc['TPVA'] = get_inf_count_and_percentage(df_TPVA_opt)\n",
        "opt_inf_table_df.loc['TPNM'] = get_inf_count_and_percentage(df_TPNM_opt)\n",
        "opt_inf_table_df.loc['TPIN'] = get_inf_count_and_percentage(df_TPIN_opt)\n",
        "\n",
        "opt_inf_table_df"
      ],
      "metadata": {
        "id": "cJK1mmTcXBp_"
      },
      "execution_count": null,
      "outputs": []
    },
    {
      "cell_type": "code",
      "source": [
        "# Plot each chart excluding TTS=inf\n",
        "# Filter out TTS=inf for each dataframe\n",
        "def filter_inf(df):\n",
        "    return df.loc[df['TTS'] != float(\"inf\")]\n",
        "\n",
        "opt_df_TPVA_filtered = filter_inf(df_TPVA_opt)\n",
        "opt_df_TPNM_filtered = filter_inf(df_TPNM_opt)\n",
        "opt_df_TPIN_filtered = filter_inf(df_TPIN_opt)\n"
      ],
      "metadata": {
        "id": "wQdkSdzeXEyg"
      },
      "execution_count": null,
      "outputs": []
    },
    {
      "cell_type": "code",
      "source": [
        "opt_df_TPNM_filtered"
      ],
      "metadata": {
        "id": "PelrRDo5LHzV"
      },
      "execution_count": null,
      "outputs": []
    },
    {
      "cell_type": "code",
      "source": [
        "# import matplotlib.pyplot as plt\n",
        "\n",
        "# # Set up subplots\n",
        "# fig, axs = plt.subplots(1, 3, figsize=(12, 6))\n",
        "\n",
        "# #opt_df_TPVA_filtered.sort_values(\"TTS\", ascending=True).plot.barh(x='Chemical', y='TTS', title=\"TPVA\", ax=axs[0])\n",
        "# axs[0].set_ylabel(\"\") # remove y-axis label\n",
        "\n",
        "# opt_df_TPNM_filtered.sort_values(\"TTS\", ascending=True).plot.barh(x='Chemical', y='TTS', title=\"TPNM\", ax=axs[1])\n",
        "# axs[1].set_ylabel(\"\") # remove y-axis label\n",
        "\n",
        "# #opt_df_TPIN_filtered.sort_values(\"TTS\", ascending=True).plot.barh(x='Chemical', y='TTS', title=\"TPIN\", ax=axs[2])\n",
        "# axs[2].set_ylabel(\"\") # remove y-axis label\n",
        "\n",
        "\n",
        "# fig.suptitle(\"TPVA, TPNM, and TPIN\")\n",
        "\n",
        "# # Adjust spacing between subplots\n",
        "# plt.subplots_adjust(wspace=0.7)\n",
        "# plt.show()\n"
      ],
      "metadata": {
        "id": "VrNPMUXHXkB_"
      },
      "execution_count": null,
      "outputs": []
    },
    {
      "cell_type": "markdown",
      "source": [
        "## Calculate TTS after turning off each supplier"
      ],
      "metadata": {
        "id": "RbxihSCfv0T3"
      }
    },
    {
      "cell_type": "markdown",
      "source": [
        "### Result without stretching suppliers"
      ],
      "metadata": {
        "id": "gk5CW4Uov6qu"
      }
    },
    {
      "cell_type": "code",
      "source": [
        "# Generate the result table\n",
        "\n",
        "# Use the result of no distruption as base\n",
        "opt_result_df = tts_no_distruption[['Chemical', 'Plant', 'TTS']]\n",
        "\n",
        "# loop through each supplier and add turned off tts column to our result\n",
        "for i, row in supplier_df.iterrows():\n",
        "    sup = row['Supplier']\n",
        "    \n",
        "    # get tts df with supplier turned off\n",
        "    off_df = turn_off_supplier(sup, optimized_supply_df)\n",
        "    off_tts_df = calculate_tts(prepare_combined_df(off_df))\n",
        "\n",
        "    # add tts to result df\n",
        "    opt_result_df = add_tts_to_result(sup, off_tts_df, opt_result_df)\n",
        "\n",
        "opt_result_df"
      ],
      "metadata": {
        "id": "PfyN8xH2v91t"
      },
      "execution_count": null,
      "outputs": []
    },
    {
      "cell_type": "markdown",
      "source": [
        "### Result with stretching 20%"
      ],
      "metadata": {
        "id": "ydx8k-cywLBe"
      }
    },
    {
      "cell_type": "code",
      "source": [
        "# Generate the result table\n",
        "\n",
        "# Use the result of no distruption as base\n",
        "opt_stretched_result_df = tts_no_distruption[['Chemical', 'Plant', 'TTS']]\n",
        "\n",
        "# loop through each supplier and add turned off tts column to our result\n",
        "for i, row in supplier_df.iterrows():\n",
        "    sup = row['Supplier']\n",
        "    \n",
        "    # get tts df with supplier turned off\n",
        "    off_df = get_stretched_supply_df(sup, optimized_supply_df)\n",
        "    off_tts_df = calculate_tts(prepare_combined_df(off_df))\n",
        "\n",
        "    # add tts to result df\n",
        "    opt_stretched_result_df = add_tts_to_result(sup, off_tts_df, opt_stretched_result_df)\n",
        "\n",
        "opt_stretched_result_df"
      ],
      "metadata": {
        "id": "fpe8rP3dwNnL"
      },
      "execution_count": null,
      "outputs": []
    },
    {
      "cell_type": "markdown",
      "source": [
        "### Final Result Table"
      ],
      "metadata": {
        "id": "pXOKsLcG02h1"
      }
    },
    {
      "cell_type": "code",
      "source": [
        "opt_final_result_sup_df = opt_result_df.merge(opt_stretched_result_df.drop('TTS', axis=1).set_index(['Chemical', 'Plant']).add_suffix('_stretched'), on=['Chemical', 'Plant'])\n",
        "opt_final_result_sup_df"
      ],
      "metadata": {
        "id": "EJfgvQWX04NW"
      },
      "execution_count": null,
      "outputs": []
    },
    {
      "cell_type": "markdown",
      "source": [
        "## Calculate TTS after turning off each region"
      ],
      "metadata": {
        "id": "a-4ms0DuwkyY"
      }
    },
    {
      "cell_type": "markdown",
      "source": [
        "### Result without stretching suppliers"
      ],
      "metadata": {
        "id": "g0uXHyDjwqOG"
      }
    },
    {
      "cell_type": "code",
      "source": [
        "# Generate the result table\n",
        "\n",
        "# Use the result of no distruption as base\n",
        "opt_region_result_df = tts_no_distruption[['Chemical', 'Plant', 'TTS']]\n",
        "\n",
        "# loop through each region and add turned off tts column to our result\n",
        "for i, row in region_df.iterrows():\n",
        "    region = row['Region_group']\n",
        "    \n",
        "    # get tts df with region turned off\n",
        "    off_df = turn_off_region(region, optimized_supply_df)\n",
        "    off_tts_df = calculate_tts(prepare_combined_df(off_df))\n",
        "\n",
        "    # add tts to result df\n",
        "    opt_region_result_df = add_tts_to_result(region, off_tts_df, opt_region_result_df)\n",
        "\n",
        "opt_region_result_df"
      ],
      "metadata": {
        "id": "j78dQc9-wuQJ"
      },
      "execution_count": null,
      "outputs": []
    },
    {
      "cell_type": "markdown",
      "source": [
        "### Result with stretching 20%"
      ],
      "metadata": {
        "id": "EyoPoiICw3TS"
      }
    },
    {
      "cell_type": "code",
      "source": [
        "# Generate the result table\n",
        "\n",
        "# Use the result of no distruption as base\n",
        "opt_stretched_region_result_df = tts_no_distruption[['Chemical', 'Plant', 'TTS']]\n",
        "\n",
        "# loop through each region and add turned off tts column to our result\n",
        "for i, row in region_df.iterrows():\n",
        "    region = row['Region_group']\n",
        "    \n",
        "    # get tts df with region turned off\n",
        "    off_df = get_stretched_region_df(region, optimized_supply_df)\n",
        "    off_tts_df = calculate_tts(prepare_combined_df(off_df))\n",
        "\n",
        "    # add tts to result df\n",
        "    opt_stretched_region_result_df = add_tts_to_result(region, off_tts_df, opt_stretched_region_result_df)\n",
        "\n",
        "opt_stretched_region_result_df"
      ],
      "metadata": {
        "id": "SwfTsJtnw6V7"
      },
      "execution_count": null,
      "outputs": []
    },
    {
      "cell_type": "markdown",
      "source": [
        "### Final Result Table"
      ],
      "metadata": {
        "id": "XhfIntW61GV3"
      }
    },
    {
      "cell_type": "code",
      "source": [
        "opt_final_result_region_df = opt_region_result_df.merge(opt_stretched_region_result_df.drop('TTS', axis=1).set_index(['Chemical', 'Plant']).add_suffix('_stretched'), on=['Chemical', 'Plant'])\n",
        "opt_final_result_region_df"
      ],
      "metadata": {
        "id": "BQhuHvm41H7A"
      },
      "execution_count": null,
      "outputs": []
    },
    {
      "cell_type": "markdown",
      "source": [
        "# Save the result into excel file"
      ],
      "metadata": {
        "id": "4Z1XzLGo9pkb"
      }
    },
    {
      "cell_type": "code",
      "source": [
        "# Original result turning off supplier #final_result_sup_df\n",
        "# Original result turning off region #final_result_region_df\n",
        "# Optimized result turning off supplier #opt_final_result_sup_df\n",
        "# Optimized result turning off region #opt_final_result_region_df\n",
        "\n",
        "\n",
        "# Saved all the result into excel file\n",
        "# create a excel writer object\n",
        "with pd.ExcelWriter(\"TTS_combined_result.xlsx\") as writer:\n",
        "   \n",
        "    # use to_excel function and specify the sheet_name and index\n",
        "    # to store the dataframe in specified sheet\n",
        "    final_result_sup_df.to_excel(writer, sheet_name=\"final_result_sup\", index=False)\n",
        "    final_result_region_df.to_excel(writer, sheet_name=\"final_result_region\", index=False)\n",
        "    opt_final_result_sup_df.to_excel(writer, sheet_name=\"opt_final_result_sup\", index=False)\n",
        "    opt_final_result_region_df.to_excel(writer, sheet_name=\"opt_final_result_region\", index=False)"
      ],
      "metadata": {
        "id": "gUyUEXof9tpq"
      },
      "execution_count": null,
      "outputs": []
    },
    {
      "cell_type": "markdown",
      "source": [
        "# Summary"
      ],
      "metadata": {
        "id": "GkJT-LJYj-yc"
      }
    },
    {
      "cell_type": "markdown",
      "source": [
        "## Supplier Summary"
      ],
      "metadata": {
        "id": "5YGw88Flq0m-"
      }
    },
    {
      "cell_type": "code",
      "source": [
        "# result_df\n",
        "# stretched_result_df\n",
        "# opt_result_df\n",
        "# opt_stretched_result_df"
      ],
      "metadata": {
        "id": "Kex_03hRkFqH"
      },
      "execution_count": null,
      "outputs": []
    },
    {
      "cell_type": "code",
      "source": [
        "# create empty dataframe with columns\n",
        "supplier_summary_df = pd.DataFrame(columns=['Chemical', 'Plant', 'TTS without stretch', 'TTS without stretch supplier', 'TTS with stretch', 'TTS with stretch supplier', 'Optimized TTS without stretch', 'Optimized TTS without stretch supplier', 'Optimized TTS with stretch', 'Optimized TTS with stretch supplier'])\n",
        "\n",
        "supplier_summary_df['Chemical'] = result_df['Chemical'].copy()\n",
        "supplier_summary_df['Plant'] = result_df['Plant'].copy()\n",
        "supplier_summary_df"
      ],
      "metadata": {
        "id": "1ohctOz9kefG"
      },
      "execution_count": null,
      "outputs": []
    },
    {
      "cell_type": "code",
      "source": [
        "# find minimum TTS\n",
        "# from result_df\n",
        "supplier_summary_df['TTS without stretch'] = result_df.drop(['Chemical', 'Plant'], axis=1).min(axis='columns')\n",
        "supplier_summary_df['TTS without stretch supplier'] = result_df.drop(['Chemical', 'Plant'], axis=1).idxmin(axis='columns')\n",
        "\n",
        "# from stretched_result_df\n",
        "supplier_summary_df['TTS with stretch'] = stretched_result_df.drop(['Chemical', 'Plant'], axis=1).min(axis='columns')\n",
        "supplier_summary_df['TTS with stretch supplier'] = stretched_result_df.drop(['Chemical', 'Plant'], axis=1).idxmin(axis='columns')\n",
        "\n",
        "# from opt_result_df\n",
        "supplier_summary_df['Optimized TTS without stretch'] = opt_result_df.drop(['Chemical', 'Plant'], axis=1).min(axis='columns')\n",
        "supplier_summary_df['Optimized TTS without stretch supplier'] = opt_result_df.drop(['Chemical', 'Plant'], axis=1).idxmin(axis='columns')\n",
        "\n",
        "# opt_stretched_result_df\n",
        "supplier_summary_df['Optimized TTS with stretch'] = opt_stretched_result_df.drop(['Chemical', 'Plant'], axis=1).min(axis='columns')\n",
        "supplier_summary_df['Optimized TTS with stretch supplier'] = opt_stretched_result_df.drop(['Chemical', 'Plant'], axis=1).idxmin(axis='columns')\n",
        "\n",
        "supplier_summary_df"
      ],
      "metadata": {
        "id": "-MOpgL-ek4FG"
      },
      "execution_count": null,
      "outputs": []
    },
    {
      "cell_type": "markdown",
      "source": [
        "## Region Summary"
      ],
      "metadata": {
        "id": "pnfLk1ZYsQXS"
      }
    },
    {
      "cell_type": "code",
      "source": [
        "# region_result_df\n",
        "# stretched_region_result_df\n",
        "# opt_region_result_df\n",
        "# opt_stretched_region_result_df"
      ],
      "metadata": {
        "id": "klvTTquUsTDS"
      },
      "execution_count": null,
      "outputs": []
    },
    {
      "cell_type": "code",
      "source": [
        "# create empty dataframe with columns\n",
        "region_summary_df = pd.DataFrame(columns=['Chemical', 'Plant', 'TTS without stretch', 'TTS without stretch region', 'TTS with stretch', 'TTS with stretch region', 'Optimized TTS without stretch', 'Optimized TTS without stretch region', 'Optimized TTS with stretch', 'Optimized TTS with stretch region'])\n",
        "\n",
        "region_summary_df['Chemical'] = result_df['Chemical'].copy()\n",
        "region_summary_df['Plant'] = result_df['Plant'].copy()\n",
        "region_summary_df"
      ],
      "metadata": {
        "id": "pwzL5xFSsf83"
      },
      "execution_count": null,
      "outputs": []
    },
    {
      "cell_type": "code",
      "source": [
        "# find minimum TTS\n",
        "# from region_result_df\n",
        "region_summary_df['TTS without stretch'] = region_result_df.drop(['Chemical', 'Plant'], axis=1).min(axis='columns')\n",
        "region_summary_df['TTS without stretch region'] = region_result_df.drop(['Chemical', 'Plant'], axis=1).idxmin(axis='columns')\n",
        "\n",
        "# from stretched_region_result_df\n",
        "region_summary_df['TTS with stretch'] = stretched_region_result_df.drop(['Chemical', 'Plant'], axis=1).min(axis='columns')\n",
        "region_summary_df['TTS with stretch region'] = stretched_region_result_df.drop(['Chemical', 'Plant'], axis=1).idxmin(axis='columns')\n",
        "\n",
        "# from opt_region_result_df\n",
        "region_summary_df['Optimized TTS without stretch'] = opt_region_result_df.drop(['Chemical', 'Plant'], axis=1).min(axis='columns')\n",
        "region_summary_df['Optimized TTS without stretch region'] = opt_region_result_df.drop(['Chemical', 'Plant'], axis=1).idxmin(axis='columns')\n",
        "\n",
        "# opt_stretched_region_result_df\n",
        "region_summary_df['Optimized TTS with stretch'] = opt_stretched_region_result_df.drop(['Chemical', 'Plant'], axis=1).min(axis='columns')\n",
        "region_summary_df['Optimized TTS with stretch region'] = opt_stretched_region_result_df.drop(['Chemical', 'Plant'], axis=1).idxmin(axis='columns')\n",
        "\n",
        "region_summary_df"
      ],
      "metadata": {
        "id": "7afvw7lcswdx"
      },
      "execution_count": null,
      "outputs": []
    },
    {
      "cell_type": "markdown",
      "source": [
        "## Save the result into excel file"
      ],
      "metadata": {
        "id": "GQuzcUSTdAyZ"
      }
    },
    {
      "cell_type": "code",
      "source": [
        "# Saved 2 tables into excel file\n",
        "# create a excel writer object\n",
        "with pd.ExcelWriter(\"TTS_combined_summary.xlsx\") as writer:\n",
        "   \n",
        "    # use to_excel function and specify the sheet_name and index\n",
        "    # to store the dataframe in specified sheet\n",
        "    supplier_summary_df.to_excel(writer, sheet_name=\"supplier_summary\", index=False)\n",
        "    region_summary_df.to_excel(writer, sheet_name=\"region_summary\", index=False)"
      ],
      "metadata": {
        "id": "z5jiratK7CTv"
      },
      "execution_count": null,
      "outputs": []
    }
  ]
}